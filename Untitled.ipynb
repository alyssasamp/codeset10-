{
 "cells": [
  {
   "cell_type": "markdown",
   "id": "0858d6d0",
   "metadata": {},
   "source": [
    "## Pet problem 1-\n",
    "Write a class named Pet, which should have the following data attributes:   (for the name of a pet) (for the type of animal that a pet is. Example values are ‘Dog’, ‘Cat’,and ‘Bird’) (for the pet’s age)The  class should have an  method that creates these attributes. It should also have the following methods:  This method assigns a value to the  field.This method assigns a value to the  field.This method assigns a value to the  field.This method returns the value of the  field.This method returns the value of the  field.This method returns the value of the  field.Once you have written the class, write a program that creates an object of the class and prompts the user to enter the name, type, and age of his or her pet. This data should be stored as the object’s attributes. Use the object’s accessor methods to retrieve the pet’s name, type, and age and display this data on the screen."
   ]
  },
  {
   "cell_type": "code",
   "execution_count": 1,
   "id": "9c77795e",
   "metadata": {},
   "outputs": [
    {
     "name": "stdout",
     "output_type": "stream",
     "text": [
      "What's your pets name?Ryder \n",
      "What is the type of animal?Dog \n",
      "How old is your pet?Two\n",
      "Pet Information:\n",
      "Pet Name: Ryder \n",
      "Animal Type: Dog \n",
      "Age: Two\n"
     ]
    }
   ],
   "source": [
    "import pet    #import the class \n",
    "\n",
    "def main():    #MAin function\n",
    "    \n",
    "    #USe input to have them enter the info needed \n",
    "    name = input(\"What's your pets name?\")\n",
    "    animal_type= input(\"What is the type of animal?\")\n",
    "    age= input(\"How old is your pet?\")\n",
    "    \n",
    "    my_pet= pet.Pet(name, animal_type, age)\n",
    "    \n",
    "    #USe print to display the following information \n",
    "    \n",
    "    print(\"Pet Information:\")\n",
    "    print(\"Pet Name:\", my_pet.get_name())\n",
    "    print(\"Animal Type:\", my_pet.get_animal_type())\n",
    "    print(\"Age:\", my_pet.get_age())\n",
    "    \n",
    "#finish the main function\n",
    "if __name__==\"__main__\":\n",
    "    main()"
   ]
  },
  {
   "cell_type": "code",
   "execution_count": null,
   "id": "11e4afd2",
   "metadata": {},
   "outputs": [],
   "source": []
  }
 ],
 "metadata": {
  "kernelspec": {
   "display_name": "Python 3 (ipykernel)",
   "language": "python",
   "name": "python3"
  },
  "language_info": {
   "codemirror_mode": {
    "name": "ipython",
    "version": 3
   },
   "file_extension": ".py",
   "mimetype": "text/x-python",
   "name": "python",
   "nbconvert_exporter": "python",
   "pygments_lexer": "ipython3",
   "version": "3.10.9"
  }
 },
 "nbformat": 4,
 "nbformat_minor": 5
}
